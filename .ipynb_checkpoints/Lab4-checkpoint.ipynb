{
 "metadata": {
  "anaconda-cloud": {},
  "kernelspec": {
   "display_name": "Python [Root]",
   "language": "python",
   "name": "Python [Root]"
  },
  "language_info": {
   "codemirror_mode": {
    "name": "ipython",
    "version": 3
   },
   "file_extension": ".py",
   "mimetype": "text/x-python",
   "name": "python",
   "nbconvert_exporter": "python",
   "pygments_lexer": "ipython3",
   "version": "3.5.2"
  },
  "name": "",
  "signature": "sha256:759b6da04b9227414d0187f521ba64ac99dcbff1fe5fc744bfb9c53f339a8a6a"
 },
 "nbformat": 3,
 "nbformat_minor": 0,
 "worksheets": [
  {
   "cells": [
    {
     "cell_type": "code",
     "collapsed": false,
     "input": [
      "## WARMUP\n",
      "from collections import Counter\n",
      "def most_common_letters(sentence):\n",
      "    \"\"\"\n",
      "    INPUT: string\n",
      "    OUTPUT: list of strings\n",
      "\n",
      "    Given a sentence, give the most common letter for each word.\n",
      "    You should lowercase the letters. If there's a tie, include any of them.\n",
      "\n",
      "    example:\n",
      "    INPUT: \"Welcome to Zipfian Academy!\"\n",
      "    OUTPUT: 'e t i a'\n",
      "\n",
      "    Hint: use Counter and the string join method\n",
      "    (It is possible to do this in one line, but you might lose some\n",
      "    readability)\n",
      "    \"\"\"\n",
      "    answer_string = \"\"\n",
      "    sentence=sentence.lower()\n",
      "    word_list = sentence.split(\" \")\n",
      "    for word in word_list:\n",
      "        cnt = Counter()\n",
      "        for char in word:\n",
      "            cnt[char] += 1\n",
      "        answer_string += cnt.most_common()[0][0]+\" \"\n",
      "    return answer_string.strip()\n"
     ],
     "language": "python",
     "metadata": {},
     "outputs": [],
     "prompt_number": 1
    },
    {
     "cell_type": "code",
     "collapsed": false,
     "input": [
      "most_common_letters(\"If you had a twin, I would still choose you\")"
     ],
     "language": "python",
     "metadata": {},
     "outputs": [
      {
       "metadata": {},
       "output_type": "pyout",
       "prompt_number": 2,
       "text": [
        "'f u h a , i d l o u'"
       ]
      }
     ],
     "prompt_number": 2
    },
    {
     "cell_type": "markdown",
     "metadata": {},
     "source": [
      "# Week 4 -- SQLAlchemy\n",
      "In this week's lab you will be building the database for an E-Commerce website called [FizzBuzz Cola](http://fizzbuzzcola.herokuapp.com/). \n",
      "\n",
      "### Database Layout\n",
      "<Image goes here>"
     ]
    },
    {
     "cell_type": "markdown",
     "metadata": {},
     "source": [
      "The first thing we should do when creating a database is map out all of the tables we want to create and how they will interact with each other.  Check out this image to see how our final database layout will look. You may also want to refer to the [SQLAlchemy Documentation](http://docs.sqlalchemy.org/en/latest/orm/basic_relationships.html) to understand the basics of setting up database relationships with SQLAlchemy."
     ]
    },
    {
     "cell_type": "markdown",
     "metadata": {},
     "source": [
      "![Database Layout](fizzbuzz.jpg)"
     ]
    },
    {
     "cell_type": "markdown",
     "metadata": {},
     "source": [
      "## Part 1 -- Setting up SQLAlchemy\n",
      "We must first import some necessary librares to use SQLAlchemy in our project. After all of the imports we use the declarative_base method in SQLAlchemy to make a Base class. "
     ]
    },
    {
     "cell_type": "code",
     "collapsed": true,
     "input": [
      "from sqlalchemy import Column,Integer,String, DateTime, ForeignKey, Float\n",
      "from sqlalchemy.ext.declarative import declarative_base\n",
      "from sqlalchemy.orm import relationship, sessionmaker\n",
      "from sqlalchemy import create_engine, func\n",
      "\n",
      "Base = declarative_base()"
     ],
     "language": "python",
     "metadata": {},
     "outputs": [],
     "prompt_number": 1
    },
    {
     "cell_type": "markdown",
     "metadata": {},
     "source": [
      "## Part 2 -- Setting up the Products Table\n",
      "All of the tables we want to create will be represent as Python _objects_ that _inhert_ from the __Base__ _class_ (familiarize yourself with these terms when referring to Object-Oriented Programming) \n",
      "\n",
      "Each _object_ that inherits from __Base__ must have a \"__tablename__\" variable specified. By convention, we make this a lower-case version of the original class name. Then we add each column along with the type of information we want to store in that column.  To see all of the different types of data we can store, refer to the SQLAlchemy documentation."
     ]
    },
    {
     "cell_type": "code",
     "collapsed": true,
     "input": [
      "class Product(Base):\n",
      "    __tablename__ = 'product'\n",
      "    __table_args__ = {'extend_existing': True}  #This will enable us to add more columns later\n",
      "    id = Column(Integer, primary_key=True)\n",
      "    name = Column(String)\n",
      "    description = Column(String)\n",
      "    photo = Column(String)\n",
      "    price = Column(String)\n",
      "    stock = Column(Integer)\n",
      "    "
     ],
     "language": "python",
     "metadata": {},
     "outputs": [
      {
       "output_type": "stream",
       "stream": "stderr",
       "text": [
        "/usr/local/lib/python2.7/dist-packages/SQLAlchemy-1.0.13-py2.7-linux-x86_64.egg/sqlalchemy/ext/declarative/clsregistry.py:120: SAWarning: This declarative base already contains a class with the same class name and module name as __main__.Product, and will be replaced in the string-lookup table.\n"
       ]
      }
     ],
     "prompt_number": 24
    },
    {
     "cell_type": "markdown",
     "metadata": {},
     "source": [
      "Once we are done specifying our tables, we now must create an engine which specifies our connection to the database along with a DBSession which sends our python operations to the engine to be processed into SQL.  \n",
      "\n",
      "This command will create an SQLite mini-database in the same directory as this notebook. Check and see that it is created after running the code below."
     ]
    },
    {
     "cell_type": "code",
     "collapsed": true,
     "input": [
      "engine = create_engine('sqlite:///fizzBuzz.db')\n",
      "Base.metadata.create_all(engine)\n",
      "\n",
      "DBSession = sessionmaker(bind=engine, autoflush=False)\n",
      "session = DBSession()"
     ],
     "language": "python",
     "metadata": {},
     "outputs": [],
     "prompt_number": 3
    },
    {
     "cell_type": "markdown",
     "metadata": {},
     "source": [
      "# CRUD - Create, Read, Update, Delete\n",
      "\n",
      "The four most basic operations we do on a database are summarized with the CRUD acronym. We will now see how to perform CRUD operations on our database using SQLAlchemy"
     ]
    },
    {
     "cell_type": "markdown",
     "metadata": {},
     "source": [
      "# CREATE\n",
      "\n",
      "Now that our database is created, let's add a new item to it.  Look at the code below to see how we add a new product to our database.  "
     ]
    },
    {
     "cell_type": "code",
     "collapsed": false,
     "input": [
      "newProduct = Product(name=\"Cream Soda\", description=\"Cream soda is a sweet carbonated soft drink flavored with vanilla.\", photo='http://www.caffeineinformer.com/wp-content/caffeine/a-w-cream-soda.jpg', price='0.99')\n",
      "session.add(newProduct)\n",
      "session.commit()"
     ],
     "language": "python",
     "metadata": {},
     "outputs": [],
     "prompt_number": 4
    },
    {
     "cell_type": "markdown",
     "metadata": {},
     "source": [
      "Add another type of soda to the database. Write your code below. You can search on the internet for a .jpg or .png image of your soda. "
     ]
    },
    {
     "cell_type": "code",
     "collapsed": true,
     "input": [
      "newProduct1 = Product(name=\"potato Soda\", description=\"potato soda is a sweet carbonated soft drink flavored with vanilla.\", photo='http://www.caffeineinformer.com/wp-content/caffeine/a-w-cream-soda.jpg', price='2.99')\n",
      "session.add(newProduct1)\n",
      "session.commit()"
     ],
     "language": "python",
     "metadata": {},
     "outputs": [],
     "prompt_number": 5
    },
    {
     "cell_type": "markdown",
     "metadata": {},
     "source": [
      "# READ\n",
      "In order to read information out of our database we create queries.  A quiery will look inside of a specific table and grab one or many rows of data based on the criteria we request.  In the code below we are requesting the first row from the Product table"
     ]
    },
    {
     "cell_type": "code",
     "collapsed": false,
     "input": [
      "query = session.query(Product).filter_by(id=2).one()"
     ],
     "language": "python",
     "metadata": {},
     "outputs": [],
     "prompt_number": 8
    },
    {
     "cell_type": "markdown",
     "metadata": {},
     "source": [
      "We can see the contents of the query by printing the values :"
     ]
    },
    {
     "cell_type": "code",
     "collapsed": false,
     "input": [
      "print(query.name)\n",
      "print(query.id)\n",
      "print(query.price)\n",
      "print(query.photo)\n",
      "print(query.description)\n",
      "\n",
      "\n",
      "#We can display the actual photo like this\n",
      "from IPython.display import Image\n",
      "from IPython.core.display import HTML \n",
      "\n",
      "Image(url= query.photo)"
     ],
     "language": "python",
     "metadata": {},
     "outputs": [
      {
       "output_type": "stream",
       "stream": "stdout",
       "text": [
        "potato Soda\n",
        "2\n",
        "2.99\n",
        "http://www.caffeineinformer.com/wp-content/caffeine/a-w-cream-soda.jpg\n",
        "potato soda is a sweet carbonated soft drink flavored with vanilla.\n"
       ]
      },
      {
       "html": [
        "<img src=\"http://www.caffeineinformer.com/wp-content/caffeine/a-w-cream-soda.jpg\"/>"
       ],
       "metadata": {},
       "output_type": "pyout",
       "prompt_number": 9,
       "text": [
        "<IPython.core.display.Image at 0x7fe8f61f4410>"
       ]
      }
     ],
     "prompt_number": 9
    },
    {
     "cell_type": "markdown",
     "metadata": {},
     "source": [
      "Try using the filter_by function to find the soda you created, the id should be 2. Then print out the price, photo, and description of your soda from the database"
     ]
    },
    {
     "cell_type": "code",
     "collapsed": true,
     "input": [
      "#Use the filter_by method to find your soda based on its id"
     ],
     "language": "python",
     "metadata": {},
     "outputs": [],
     "prompt_number": null
    },
    {
     "cell_type": "code",
     "collapsed": true,
     "input": [
      "#Print the price, photo and description here"
     ],
     "language": "python",
     "metadata": {},
     "outputs": [],
     "prompt_number": null
    },
    {
     "cell_type": "markdown",
     "metadata": {},
     "source": [
      "# UPDATE\n",
      "Updating allows us to change specific values in a row without deleting or creating a new row in our table.  In order to update a row we must first execute a query to find the row we are looking for:"
     ]
    },
    {
     "cell_type": "code",
     "collapsed": true,
     "input": [
      "query = session.query(Product).filter_by(id=1).one()"
     ],
     "language": "python",
     "metadata": {},
     "outputs": [],
     "prompt_number": 10
    },
    {
     "cell_type": "markdown",
     "metadata": {},
     "source": [
      "Then we can update any of the parameters by reassigning the variables like so:"
     ]
    },
    {
     "cell_type": "code",
     "collapsed": true,
     "input": [
      "query.name = \"A&W Cream Soda\"\n",
      "query.photo = \"http://www.governorsrecipes.com/images/flavor_cream_soda.jpg\""
     ],
     "language": "python",
     "metadata": {},
     "outputs": [],
     "prompt_number": 11
    },
    {
     "cell_type": "markdown",
     "metadata": {},
     "source": [
      "We then add and commit the session to the database"
     ]
    },
    {
     "cell_type": "code",
     "collapsed": true,
     "input": [
      "session.add(query)"
     ],
     "language": "python",
     "metadata": {},
     "outputs": [],
     "prompt_number": 12
    },
    {
     "cell_type": "code",
     "collapsed": true,
     "input": [
      "session.commit()"
     ],
     "language": "python",
     "metadata": {},
     "outputs": [],
     "prompt_number": 13
    },
    {
     "cell_type": "markdown",
     "metadata": {},
     "source": [
      "Re-running this code should now read the updated entries from our database:"
     ]
    },
    {
     "cell_type": "code",
     "collapsed": false,
     "input": [
      "print(query.name)\n",
      "print(query.id)\n",
      "print(query.price)\n",
      "print(query.photo)\n",
      "print(query.description)\n",
      "\n",
      "\n",
      "#Display the actual photo here\n",
      "Image(url= query.photo)"
     ],
     "language": "python",
     "metadata": {},
     "outputs": [
      {
       "output_type": "stream",
       "stream": "stdout",
       "text": [
        "A&W Cream Soda\n",
        "1\n",
        "0.99\n",
        "http://www.governorsrecipes.com/images/flavor_cream_soda.jpg\n",
        "Cream soda is a sweet carbonated soft drink flavored with vanilla.\n"
       ]
      },
      {
       "html": [
        "<img src=\"http://www.governorsrecipes.com/images/flavor_cream_soda.jpg\"/>"
       ],
       "metadata": {},
       "output_type": "pyout",
       "prompt_number": 14,
       "text": [
        "<IPython.core.display.Image at 0x7fe8f61f4310>"
       ]
      }
     ],
     "prompt_number": 14
    },
    {
     "cell_type": "markdown",
     "metadata": {},
     "source": [
      "Update the price of the soda entry you created and show it below:"
     ]
    },
    {
     "cell_type": "code",
     "collapsed": true,
     "input": [
      "query = session.query(Product).filter_by(id=2).one()\n",
      "query.name = \"popo soda\"\n",
      "session.add(query)\n",
      "session.commit()\n",
      "print(query.name)"
     ],
     "language": "python",
     "metadata": {},
     "outputs": [
      {
       "output_type": "stream",
       "stream": "stdout",
       "text": [
        "popo soda\n"
       ]
      }
     ],
     "prompt_number": 23
    },
    {
     "cell_type": "markdown",
     "metadata": {},
     "source": [
      "## Delete\n",
      "Similarly to updating, we delete a row from our database by first executing a query:"
     ]
    },
    {
     "cell_type": "code",
     "collapsed": true,
     "input": [
      "query = session.query(Product).filter_by(id=1).one()"
     ],
     "language": "python",
     "metadata": {},
     "outputs": [],
     "prompt_number": null
    },
    {
     "cell_type": "markdown",
     "metadata": {},
     "source": [
      "...then by calling session.delete() and commiting we have executed that deletion"
     ]
    },
    {
     "cell_type": "code",
     "collapsed": true,
     "input": [
      "session.delete(query)\n",
      "session.commit()"
     ],
     "language": "python",
     "metadata": {},
     "outputs": [],
     "prompt_number": null
    },
    {
     "cell_type": "markdown",
     "metadata": {},
     "source": [
      "So what do you expect to happen when we search for an entry in a database we deleted?"
     ]
    },
    {
     "cell_type": "code",
     "collapsed": false,
     "input": [
      "query = session.query(Product).filter_by(id=1).one()"
     ],
     "language": "python",
     "metadata": {},
     "outputs": [],
     "prompt_number": 25
    },
    {
     "cell_type": "code",
     "collapsed": false,
     "input": [
      "query = session.query(Product).filter_by(id=2).one()\n",
      "query = session.delete(query)\n",
      "session.commit()\n",
      "print(query.name)\n"
     ],
     "language": "python",
     "metadata": {},
     "outputs": [
      {
       "ename": "NoResultFound",
       "evalue": "No row was found for one()",
       "output_type": "pyerr",
       "traceback": [
        "\u001b[0;31m---------------------------------------------------------------------------\u001b[0m\n\u001b[0;31mNoResultFound\u001b[0m                             Traceback (most recent call last)",
        "\u001b[0;32m<ipython-input-28-f31817d3d811>\u001b[0m in \u001b[0;36m<module>\u001b[0;34m()\u001b[0m\n\u001b[0;32m----> 1\u001b[0;31m \u001b[0mquery\u001b[0m \u001b[0;34m=\u001b[0m \u001b[0msession\u001b[0m\u001b[0;34m.\u001b[0m\u001b[0mquery\u001b[0m\u001b[0;34m(\u001b[0m\u001b[0mProduct\u001b[0m\u001b[0;34m)\u001b[0m\u001b[0;34m.\u001b[0m\u001b[0mfilter_by\u001b[0m\u001b[0;34m(\u001b[0m\u001b[0mid\u001b[0m\u001b[0;34m=\u001b[0m\u001b[0;36m2\u001b[0m\u001b[0;34m)\u001b[0m\u001b[0;34m.\u001b[0m\u001b[0mone\u001b[0m\u001b[0;34m(\u001b[0m\u001b[0;34m)\u001b[0m\u001b[0;34m\u001b[0m\u001b[0m\n\u001b[0m\u001b[1;32m      2\u001b[0m \u001b[0mquery\u001b[0m \u001b[0;34m=\u001b[0m \u001b[0msession\u001b[0m\u001b[0;34m.\u001b[0m\u001b[0mdelete\u001b[0m\u001b[0;34m(\u001b[0m\u001b[0mquery\u001b[0m\u001b[0;34m)\u001b[0m\u001b[0;34m\u001b[0m\u001b[0m\n\u001b[1;32m      3\u001b[0m \u001b[0msession\u001b[0m\u001b[0;34m.\u001b[0m\u001b[0mcommit\u001b[0m\u001b[0;34m(\u001b[0m\u001b[0;34m)\u001b[0m\u001b[0;34m\u001b[0m\u001b[0m\n\u001b[1;32m      4\u001b[0m \u001b[0;32mprint\u001b[0m\u001b[0;34m(\u001b[0m\u001b[0mquery\u001b[0m\u001b[0;34m.\u001b[0m\u001b[0mname\u001b[0m\u001b[0;34m)\u001b[0m\u001b[0;34m\u001b[0m\u001b[0m\n",
        "\u001b[0;32m/usr/local/lib/python2.7/dist-packages/SQLAlchemy-1.0.13-py2.7-linux-x86_64.egg/sqlalchemy/orm/query.pyc\u001b[0m in \u001b[0;36mone\u001b[0;34m(self)\u001b[0m\n\u001b[1;32m   2722\u001b[0m             \u001b[0;32mreturn\u001b[0m \u001b[0mret\u001b[0m\u001b[0;34m[\u001b[0m\u001b[0;36m0\u001b[0m\u001b[0;34m]\u001b[0m\u001b[0;34m\u001b[0m\u001b[0m\n\u001b[1;32m   2723\u001b[0m         \u001b[0;32melif\u001b[0m \u001b[0ml\u001b[0m \u001b[0;34m==\u001b[0m \u001b[0;36m0\u001b[0m\u001b[0;34m:\u001b[0m\u001b[0;34m\u001b[0m\u001b[0m\n\u001b[0;32m-> 2724\u001b[0;31m             \u001b[0;32mraise\u001b[0m \u001b[0morm_exc\u001b[0m\u001b[0;34m.\u001b[0m\u001b[0mNoResultFound\u001b[0m\u001b[0;34m(\u001b[0m\u001b[0;34m\"No row was found for one()\"\u001b[0m\u001b[0;34m)\u001b[0m\u001b[0;34m\u001b[0m\u001b[0m\n\u001b[0m\u001b[1;32m   2725\u001b[0m         \u001b[0;32melse\u001b[0m\u001b[0;34m:\u001b[0m\u001b[0;34m\u001b[0m\u001b[0m\n\u001b[1;32m   2726\u001b[0m             raise orm_exc.MultipleResultsFound(\n",
        "\u001b[0;31mNoResultFound\u001b[0m: No row was found for one()"
       ]
      }
     ],
     "prompt_number": 28
    },
    {
     "cell_type": "markdown",
     "metadata": {},
     "source": [
      "## Adding A Customer Table\n",
      "\n",
      "Now that we have figured out how to create products in our database, let's add some customers as well. Look at and execute the code below, you'll notice a few new features that we've added to our class."
     ]
    },
    {
     "cell_type": "code",
     "collapsed": false,
     "input": [
      "from passlib.apps import custom_app_context as pwd_context\n",
      "\n",
      "class Customer(Base):\n",
      "    __tablename__ = 'customer'\n",
      "    id = Column(Integer, primary_key=True)\n",
      "    name = Column(String(255))\n",
      "    address = Column(String(255))\n",
      "    email = Column(String(255), unique=True)\n",
      "    password_hash = Column(String(255))\n",
      "    shoppingCart = relationship(\"ShoppingCart\", uselist=False, back_populates=\"customer\")\n",
      "    orders = relationship(\"Order\", back_populates=\"customer\")\n",
      "\n",
      "    def hash_password(self, password):\n",
      "        self.password_hash = pwd_context.encrypt(password)\n",
      "\n",
      "    def verify_password(self, password):\n",
      "        return pwd_context.verify(password, self.password_hash)\n"
     ],
     "language": "python",
     "metadata": {},
     "outputs": [],
     "prompt_number": 2
    },
    {
     "cell_type": "markdown",
     "metadata": {},
     "source": [
      "The first thing you should notice is a password hash. Hashing is a special one-way mathematical function that we can use to safely store sensitve information in a database.  Dictionaries also use a special form of hashing in Python.  \n",
      "\n",
      "We have also added Relationships to a Shopping Cart (1-to-1) as well as to orders (many-to-many)\n",
      "\n",
      "Many-to-Many relationships require an intermediate table to be created but we will get to that very soon. "
     ]
    },
    {
     "cell_type": "markdown",
     "metadata": {},
     "source": [
      "# Adding A Shopping Cart\n",
      "So as we previously stated, every customer should have one Shopping Cart, But each Shopping Cart may have mulitple products and products can be in multiple shopping carts.  Read up on creating one-to-one and many-to-many relationships in the SQLAlchemy Documentation and then read through the code below."
     ]
    },
    {
     "cell_type": "code",
     "collapsed": true,
     "input": [
      "class ShoppingCart(Base):\n",
      "    __tablename__ = 'shoppingCart'\n",
      "    id = Column(Integer, primary_key=True)\n",
      "    customer_id = Column(Integer, ForeignKey('customer.id'))\n",
      "    customer = relationship(\"Customer\", back_populates=\"shoppingCart\")\n",
      "    products = relationship(\"ShoppingCartAssociation\", back_populates=\"shoppingCart\")"
     ],
     "language": "python",
     "metadata": {},
     "outputs": [],
     "prompt_number": 3
    },
    {
     "cell_type": "markdown",
     "metadata": {},
     "source": [
      "# Updating Relationships in Products\n",
      "Our products now also must be adapted to belong to several shopping carts as well as final orders. So let's update the Product class with these two relationships. "
     ]
    },
    {
     "cell_type": "code",
     "collapsed": false,
     "input": [
      "class Product(Base):\n",
      "    __table_args__ = {'extend_existing': True}\n",
      "    __tablename__ = 'product'\n",
      "    id = Column(Integer, primary_key=True)\n",
      "    name = Column(String)\n",
      "    description = Column(String)\n",
      "    photo = Column(String)\n",
      "    price = Column(String)\n",
      "    orders = relationship(\"OrdersAssociation\", back_populates=\"product\")\n",
      "    shoppingCarts = relationship(\"ShoppingCartAssociation\", back_populates=\"product\")\n"
     ],
     "language": "python",
     "metadata": {},
     "outputs": [],
     "prompt_number": 4
    },
    {
     "cell_type": "markdown",
     "metadata": {},
     "source": [
      "## Order Table\n",
      "When a customer checks out, we will clear their shopping cart, place an order containing all of the products, and provide a confirmation number for their order. "
     ]
    },
    {
     "cell_type": "code",
     "collapsed": false,
     "input": [
      "class Order(Base):\n",
      "    __tablename__ = 'order'\n",
      "    id = Column(Integer, primary_key=True)\n",
      "    total = Column(Float)\n",
      "    timestamp = Column(DateTime, default=func.now())\n",
      "    confirmation = Column(String, unique=True)\n",
      "    products = relationship(\"OrdersAssociation\", back_populates=\"order\")\n",
      "    customer_id = Column(Integer, ForeignKey('customer.id'))\n",
      "    customer = relationship(\"Customer\", back_populates=\"orders\")"
     ],
     "language": "python",
     "metadata": {},
     "outputs": [],
     "prompt_number": 5
    },
    {
     "cell_type": "markdown",
     "metadata": {},
     "source": [
      "# Intermediate Tables:\n",
      "\n",
      "When we have many-to-many relationships, intermediate or joint tables must be created to keep track of the foreign key relationships as well as to specify the rules as to what happens if an item is deleted from one table and not another.  Read through the code below and see if you can understand what's going on with the two intermediate tables below.  If you have any questions find a TA or Instructor.  "
     ]
    },
    {
     "cell_type": "code",
     "collapsed": false,
     "input": [
      "class OrdersAssociation(Base):\n",
      "    __tablename__ = 'OrdersAssociation'\n",
      "    order_id = Column(Integer, ForeignKey('order.id'), primary_key=True)\n",
      "    product_id = Column(Integer, ForeignKey('product.id'), primary_key=True)\n",
      "    product_qty = Column(Integer)\n",
      "    product = relationship(\"Product\", back_populates=\"orders\")\n",
      "    order = relationship(\"Order\", back_populates=\"products\")\n",
      "\n",
      "class ShoppingCartAssociation(Base):\n",
      "    __tablename__ = 'shoppingCartAssociation'\n",
      "    shopping_cart_id = Column(Integer, ForeignKey('shoppingCart.id'), primary_key=True)\n",
      "    product_id = Column(Integer, ForeignKey('product.id'), primary_key=True)\n",
      "    quantity = Column(Integer)\n",
      "    product = relationship(\"Product\", back_populates=\"shoppingCarts\")\n",
      "    shoppingCart = relationship(\"ShoppingCart\", back_populates=\"products\")\n"
     ],
     "language": "python",
     "metadata": {},
     "outputs": [],
     "prompt_number": 6
    },
    {
     "cell_type": "markdown",
     "metadata": {},
     "source": [
      "Now that we've added all these database modifications, let's update our database to reflect these changes in our python code (If an error occurs at this step try either deleting the old fizzBuzz.db file or re-naming the one we create below)"
     ]
    },
    {
     "cell_type": "code",
     "collapsed": true,
     "input": [
      "engine = create_engine('sqlite:///fizzBuzz.db')\n",
      "Base.metadata.create_all(engine)\n",
      "\n",
      "DBSession = sessionmaker(bind=engine, autoflush=False)\n",
      "session = DBSession()"
     ],
     "language": "python",
     "metadata": {},
     "outputs": [],
     "prompt_number": 7
    },
    {
     "cell_type": "markdown",
     "metadata": {},
     "source": [
      "# Populate Products\n",
      "\n",
      "Now that we're done with all our database configurations, let's populate it with a few items. See how we can use a list of dictionaries to easily add multiple items. If you've ever heard of JSON this probably looks familar. If you haven't, don't worry, you will all be familiar with JSON very soon.\n",
      "\n",
      "Feel free to add any other items if you'd like. "
     ]
    },
    {
     "cell_type": "code",
     "collapsed": false,
     "input": [
      "products = [\n",
      "    \n",
      "{'name':'Lemon Lime', 'description':'Obey your Thirst', 'photo':'https://i5.walmartimages.com/asr/f6bbc322-83c3-49d9-a9b6-35f05aea0226_1.e37e538746a60bad395e7a0b19ab4f6c.jpeg?odnHeight=450&odnWidth=450&odnBg=FFFFFF', 'price':'$2.99'},\n",
      "{'name':'Tutti Fruiti', 'description':'Tropical Fruit Punch', 'photo':'https://i5.walmartimages.com/asr/859eac0f-f23f-4bf3-b190-91a97d495bbe_1.1376acaadf8d89cb4a12f42fd0318b53.jpeg?odnHeight=450&odnWidth=450&odnBg=FFFFFF', 'price':'$1.89'},\n",
      "{'name':'Root Beer', 'description':'Made from Sassafras', 'photo':'http://cdn6.bigcommerce.com/s-vs756cw/products/1114/images/1739/Tower_Root_Beer__34890.1448901409.1280.1280.png?c=2', 'price':'$1.50'},\n",
      "{'name':'Strawberry', 'description':'Not Fanta, but the next best thing', 'photo':'http://texaslegacybrands.com/media/catalog/product/cache/1/image/800x/9df78eab33525d08d6e5fb8d27136e95/n/e/nesbitt-040190.jpg', 'price':'$.99'},\n",
      "{'name':'Traditional Cola', 'description':'A Traditional Favorite', 'photo':'https://i5.walmartimages.com/asr/d6ae552d-5bf8-4fcb-9a2f-3be899a90024_1.1da92d09e8dd1ecf04a0d178a909c5cc.jpeg?odnHeight=450&odnWidth=450&odnBg=FFFFFF', 'price':'$.88'},\n",
      "{'name':'Grape', 'description':'Fresh off the vine goodness', 'photo':'http://www.zandh.co.uk/media/catalog/product/cache/1/image/600x600/9df78eab33525d08d6e5fb8d27136e95/o/l/old_jamaica_grape_soda.png', 'price':'$1.29'},\n",
      "{'name':'Orange', 'description':'Zesty citrus flavor', 'photo':'http://edengourmet.com/wp-content/uploads/2014/10/Boylans-Orange-Soda-12floz.jpg', 'price':'$2.15'},\n",
      "{'name':'Peach', 'description':'Fuzzy Navel of Refreshment', 'photo':'https://s3.amazonaws.com/static.caloriecount.about.com/images/medium/big-peach-soda-84751.jpg', 'price':'$1.99'},\n",
      "{'name':'Diet Cola', 'description':'Same great taste without the calories', 'photo':'http://acttwomagazine.com/wp-content/uploads/2015/07/Diet_Cola1.jpg', 'price':'$1.00'},\n",
      "{'name':'Energy Cola', 'description':'Gives you wings', 'photo':'https://jarrodhart.files.wordpress.com/2011/09/generic_energy_drink.jpg', 'price':'$2.99'},\n",
      "        \n",
      "]\n",
      "\n",
      "\n",
      "for product in products:\n",
      "    newProduct = Product(name=product['name'], description=product['description'], photo=product['photo'], price=product['price'])\n",
      "    session.add(newProduct)\n",
      "    session.commit()"
     ],
     "language": "python",
     "metadata": {},
     "outputs": [],
     "prompt_number": 8
    },
    {
     "cell_type": "heading",
     "level": 4,
     "metadata": {},
     "source": [
      "Now, let's print a catalog of our inventory:"
     ]
    },
    {
     "cell_type": "code",
     "collapsed": false,
     "input": [
      "import matplotlib.pyplot as plt\n",
      "from IPython.display import display, Image\n",
      "\n",
      "queries = session.query(Product).all()\n",
      "for query in queries:\n",
      "    print(query.name)\n",
      "    print(query.id)\n",
      "    print(query.price)\n",
      "    display(Image(url= query.photo,width=100, height=100))\n",
      "    print(query.description)\n",
      "    print(\"\\n\")\n",
      "\n",
      "    "
     ],
     "language": "python",
     "metadata": {},
     "outputs": [
      {
       "output_type": "stream",
       "stream": "stdout",
       "text": [
        "Lemon Lime\n",
        "1\n",
        "$2.99\n"
       ]
      },
      {
       "html": [
        "<img src=\"https://i5.walmartimages.com/asr/f6bbc322-83c3-49d9-a9b6-35f05aea0226_1.e37e538746a60bad395e7a0b19ab4f6c.jpeg?odnHeight=450&odnWidth=450&odnBg=FFFFFF\" width=\"100\" height=\"100\"/>"
       ],
       "metadata": {},
       "output_type": "display_data",
       "text": [
        "<IPython.core.display.Image at 0x7f0fbae99bd0>"
       ]
      },
      {
       "output_type": "stream",
       "stream": "stdout",
       "text": [
        "Obey your Thirst\n",
        "\n",
        "\n",
        "Tutti Fruiti\n",
        "2\n",
        "$1.89\n"
       ]
      },
      {
       "html": [
        "<img src=\"https://i5.walmartimages.com/asr/859eac0f-f23f-4bf3-b190-91a97d495bbe_1.1376acaadf8d89cb4a12f42fd0318b53.jpeg?odnHeight=450&odnWidth=450&odnBg=FFFFFF\" width=\"100\" height=\"100\"/>"
       ],
       "metadata": {},
       "output_type": "display_data",
       "text": [
        "<IPython.core.display.Image at 0x7f0fbae99c10>"
       ]
      },
      {
       "output_type": "stream",
       "stream": "stdout",
       "text": [
        "Tropical Fruit Punch\n",
        "\n",
        "\n",
        "Root Beer\n",
        "3\n",
        "$1.50\n"
       ]
      },
      {
       "html": [
        "<img src=\"http://cdn6.bigcommerce.com/s-vs756cw/products/1114/images/1739/Tower_Root_Beer__34890.1448901409.1280.1280.png?c=2\" width=\"100\" height=\"100\"/>"
       ],
       "metadata": {},
       "output_type": "display_data",
       "text": [
        "<IPython.core.display.Image at 0x7f0fbab76350>"
       ]
      },
      {
       "output_type": "stream",
       "stream": "stdout",
       "text": [
        "Made from Sassafras\n",
        "\n",
        "\n",
        "Strawberry\n",
        "4\n",
        "$.99\n"
       ]
      },
      {
       "html": [
        "<img src=\"http://texaslegacybrands.com/media/catalog/product/cache/1/image/800x/9df78eab33525d08d6e5fb8d27136e95/n/e/nesbitt-040190.jpg\" width=\"100\" height=\"100\"/>"
       ],
       "metadata": {},
       "output_type": "display_data",
       "text": [
        "<IPython.core.display.Image at 0x7f0fbab76b10>"
       ]
      },
      {
       "output_type": "stream",
       "stream": "stdout",
       "text": [
        "Not Fanta, but the next best thing\n",
        "\n",
        "\n",
        "Traditional Cola\n",
        "5\n",
        "$.88\n"
       ]
      },
      {
       "html": [
        "<img src=\"https://i5.walmartimages.com/asr/d6ae552d-5bf8-4fcb-9a2f-3be899a90024_1.1da92d09e8dd1ecf04a0d178a909c5cc.jpeg?odnHeight=450&odnWidth=450&odnBg=FFFFFF\" width=\"100\" height=\"100\"/>"
       ],
       "metadata": {},
       "output_type": "display_data",
       "text": [
        "<IPython.core.display.Image at 0x7f0fbab76090>"
       ]
      },
      {
       "output_type": "stream",
       "stream": "stdout",
       "text": [
        "A Traditional Favorite\n",
        "\n",
        "\n",
        "Grape\n",
        "6\n",
        "$1.29\n"
       ]
      },
      {
       "html": [
        "<img src=\"http://www.zandh.co.uk/media/catalog/product/cache/1/image/600x600/9df78eab33525d08d6e5fb8d27136e95/o/l/old_jamaica_grape_soda.png\" width=\"100\" height=\"100\"/>"
       ],
       "metadata": {},
       "output_type": "display_data",
       "text": [
        "<IPython.core.display.Image at 0x7f0fbab76c90>"
       ]
      },
      {
       "output_type": "stream",
       "stream": "stdout",
       "text": [
        "Fresh off the vine goodness\n",
        "\n",
        "\n",
        "Orange\n",
        "7\n",
        "$2.15\n"
       ]
      },
      {
       "html": [
        "<img src=\"http://edengourmet.com/wp-content/uploads/2014/10/Boylans-Orange-Soda-12floz.jpg\" width=\"100\" height=\"100\"/>"
       ],
       "metadata": {},
       "output_type": "display_data",
       "text": [
        "<IPython.core.display.Image at 0x7f0fbab76cd0>"
       ]
      },
      {
       "output_type": "stream",
       "stream": "stdout",
       "text": [
        "Zesty citrus flavor\n",
        "\n",
        "\n",
        "Peach\n",
        "8\n",
        "$1.99\n"
       ]
      },
      {
       "html": [
        "<img src=\"https://s3.amazonaws.com/static.caloriecount.about.com/images/medium/big-peach-soda-84751.jpg\" width=\"100\" height=\"100\"/>"
       ],
       "metadata": {},
       "output_type": "display_data",
       "text": [
        "<IPython.core.display.Image at 0x7f0fbab76d10>"
       ]
      },
      {
       "output_type": "stream",
       "stream": "stdout",
       "text": [
        "Fuzzy Navel of Refreshment\n",
        "\n",
        "\n",
        "Diet Cola\n",
        "9\n",
        "$1.00\n"
       ]
      },
      {
       "html": [
        "<img src=\"http://acttwomagazine.com/wp-content/uploads/2015/07/Diet_Cola1.jpg\" width=\"100\" height=\"100\"/>"
       ],
       "metadata": {},
       "output_type": "display_data",
       "text": [
        "<IPython.core.display.Image at 0x7f0fbab76d50>"
       ]
      },
      {
       "output_type": "stream",
       "stream": "stdout",
       "text": [
        "Same great taste without the calories\n",
        "\n",
        "\n",
        "Energy Cola\n",
        "10\n",
        "$2.99\n"
       ]
      },
      {
       "html": [
        "<img src=\"https://jarrodhart.files.wordpress.com/2011/09/generic_energy_drink.jpg\" width=\"100\" height=\"100\"/>"
       ],
       "metadata": {},
       "output_type": "display_data",
       "text": [
        "<IPython.core.display.Image at 0x7f0fbab76d90>"
       ]
      },
      {
       "output_type": "stream",
       "stream": "stdout",
       "text": [
        "Gives you wings\n",
        "\n",
        "\n"
       ]
      }
     ],
     "prompt_number": 9
    },
    {
     "cell_type": "markdown",
     "metadata": {},
     "source": [
      "# Create two New Customers\n",
      "Modify the code below to add you and your partner as customers in the database.  What happens when I try to retrieve a password from the database.  Then what happens when I verify a password."
     ]
    },
    {
     "cell_type": "code",
     "collapsed": false,
     "input": [
      "customer1 = Customer(name = \"Partner 1 Name\", email=\"partner1@meet.mit.edu\", address = \"3 Lincoln St.\")\n",
      "password=\"my_super_secret_password\"\n",
      "customer1.hash_password(password)\n",
      "session.add(customer1)\n",
      "shoppingCart = ShoppingCart(customer=customer1)\n",
      "session.add(shoppingCart)\n",
      "session.commit()\n",
      "\n",
      "customer2 = Customer(name = \"Partner 2 Name\", email=\"partner2@meet.mit.edu\", address = \"3 Lincoln St.\")\n",
      "password=\"another_super_secret_password\"\n",
      "customer1.hash_password(password)\n",
      "session.add(customer2)\n",
      "shoppingCart = ShoppingCart(customer=customer2)\n",
      "session.add(shoppingCart)\n",
      "session.commit()"
     ],
     "language": "python",
     "metadata": {},
     "outputs": [],
     "prompt_number": 10
    },
    {
     "cell_type": "code",
     "collapsed": false,
     "input": [
      "customer1.password_hash\n"
     ],
     "language": "python",
     "metadata": {},
     "outputs": [
      {
       "metadata": {},
       "output_type": "pyout",
       "prompt_number": 11,
       "text": [
        "u'$6$rounds=608155$zcC.jCyajNhcP/8z$TTwGtRbY74qhvWOIpu3JrIrp/RSSoLXWp.bRVor9dtOp.sFYcCTOzPUw.l/YBmN.UKt.9iMuHTUI3i8NHuOHD1'"
       ]
      }
     ],
     "prompt_number": 11
    },
    {
     "cell_type": "code",
     "collapsed": false,
     "input": [
      "customer1.verify_password(\"my_super_secret_password\")"
     ],
     "language": "python",
     "metadata": {},
     "outputs": [
      {
       "metadata": {},
       "output_type": "pyout",
       "prompt_number": 12,
       "text": [
        "False"
       ]
      }
     ],
     "prompt_number": 12
    },
    {
     "cell_type": "markdown",
     "metadata": {},
     "source": [
      "#  Add Items to Shopping Carts\n",
      "Now let's see if we can add an item to the shopping cart. To do this let's make a reusable function that will add an item based on the customer's id (which is the same as the shopping cart's id), the product_id, and the quantity)"
     ]
    },
    {
     "cell_type": "code",
     "collapsed": false,
     "input": [
      "def add_to_cart(customer_id,product_id, quantity):\n",
      "    product = session.query(Product).filter_by(id=product_id).one()\n",
      "    shoppingCart = session.query(ShoppingCart).filter_by(customer_id = customer_id).one()\n",
      "    customer = session.query(Customer).filter_by(id = customer_id).one()\n",
      "    #If this item is already in the shopping cart, just update the quantity\n",
      "    if product.name in [item.product.name for item in shoppingCart.products]:\n",
      "        assoc = session.query(ShoppingCartAssociation).filter_by(shoppingCart=shoppingCart).filter_by(product = product).one()\n",
      "        assoc.quantity = int(assoc.quantity) + int(quantity)\n",
      "    else:\n",
      "        a = ShoppingCartAssociation(product = product, quantity=quantity)\n",
      "        shoppingCart.products.append(a)\n",
      "        session.add_all([a,product,shoppingCart])\n",
      "        session.commit()\n",
      "    print(\"Successfully added %s %s to %s's Shopping Cart\"% (str(quantity), str(product.name),str(customer.name) ))"
     ],
     "language": "python",
     "metadata": {},
     "outputs": [],
     "prompt_number": 13
    },
    {
     "cell_type": "markdown",
     "metadata": {},
     "source": [
      "Try adding these and a few more items to the cart (at least 5 more items)"
     ]
    },
    {
     "cell_type": "code",
     "collapsed": false,
     "input": [
      "add_to_cart(1,3,5)\n",
      "add_to_cart(1,2,6)\n",
      "add_to_cart(2,1,3)\n",
      "add_to_cart(2,7,15)"
     ],
     "language": "python",
     "metadata": {},
     "outputs": [
      {
       "output_type": "stream",
       "stream": "stdout",
       "text": [
        "Successfully added 5 Root Beer to Partner 1 Name's Shopping Cart\n",
        "Successfully added 6 Tutti Fruiti to Partner 1 Name's Shopping Cart"
       ]
      },
      {
       "output_type": "stream",
       "stream": "stdout",
       "text": [
        "\n",
        "Successfully added 3 Lemon Lime to Partner 2 Name's Shopping Cart"
       ]
      },
      {
       "output_type": "stream",
       "stream": "stdout",
       "text": [
        "\n",
        "Successfully added 15 Orange to Partner 2 Name's Shopping Cart"
       ]
      },
      {
       "output_type": "stream",
       "stream": "stdout",
       "text": [
        "\n"
       ]
      }
     ],
     "prompt_number": 14
    },
    {
     "cell_type": "markdown",
     "metadata": {},
     "source": [
      "# Remove an Item from Shopping Cart\n",
      "We we remove an item from a customer's shopping cart, we are only removing the relationship between that item and the shopping cart in the ShoppingCartAssociation table.  See the code below and understand what it is doing"
     ]
    },
    {
     "cell_type": "code",
     "collapsed": false,
     "input": [
      "def removeFromCart(customer_id, product_id):\n",
      "    customer = session.query(Customer).filter_by(id = customer_id).one()\n",
      "    product = session.query(Product).filter_by(id=product_id).one()\n",
      "    association = session.query(ShoppingCartAssociation).filter_by(shopping_cart_id=customer_id).filter_by(product_id = product_id).one()\n",
      "    session.delete(association)\n",
      "    session.commit()\n",
      "    print(\"%s Deleted Successfully from %s's Cart\"%(product.name, customer.name))\n"
     ],
     "language": "python",
     "metadata": {},
     "outputs": [],
     "prompt_number": 15
    },
    {
     "cell_type": "code",
     "collapsed": false,
     "input": [
      "removeFromCart(1,3)\n",
      "removeFromCart(2,1)"
     ],
     "language": "python",
     "metadata": {},
     "outputs": [
      {
       "output_type": "stream",
       "stream": "stdout",
       "text": [
        "Root Beer Deleted Successfully from Partner 1 Name's Cart\n",
        "Lemon Lime Deleted Successfully from Partner 2 Name's Cart"
       ]
      },
      {
       "output_type": "stream",
       "stream": "stdout",
       "text": [
        "\n"
       ]
      }
     ],
     "prompt_number": 16
    },
    {
     "cell_type": "markdown",
     "metadata": {},
     "source": [
      "# Update an Item Quantity in Shopping Cart\n",
      "\n",
      "Similarly to deleting, updating only requires modifing the quantity field in the ShoppingCartAssociation table:"
     ]
    },
    {
     "cell_type": "code",
     "collapsed": false,
     "input": [
      "def updateQuantity(customer_id, product_id, quantity):\n",
      "    customer = session.query(Customer).filter_by(id = customer_id).one()\n",
      "    product = session.query(Product).filter_by(id=product_id).one()\n",
      "    if quantity == 0:\n",
      "        return removeFromCart(customer_id, product_id)\n",
      "    if quantity < 0:\n",
      "        print(\"Can't store negative quantities because that would be silly.\")\n",
      "        return\n",
      "    association = session.query(ShoppingCartAssociation).filter_by(shopping_cart_id=customer_id).filter_by(product_id = product_id).one()\n",
      "    association.quantity = quantity\n",
      "    session.add(association)\n",
      "    session.commit()\n",
      "    print(\"%s's Quantity in %s's Cart Updated Successfully to %s\" % (product.name, customer.name, str(quantity)))"
     ],
     "language": "python",
     "metadata": {},
     "outputs": [],
     "prompt_number": 17
    },
    {
     "cell_type": "markdown",
     "metadata": {},
     "source": [
      "Update some of the other items in your shopping carts"
     ]
    },
    {
     "cell_type": "code",
     "collapsed": false,
     "input": [
      "updateQuantity(1,2,7)\n",
      "updateQuantity(2,7,7)"
     ],
     "language": "python",
     "metadata": {},
     "outputs": [
      {
       "output_type": "stream",
       "stream": "stdout",
       "text": [
        "Tutti Fruiti's Quantity in Partner 1 Name's Cart Updated Successfully to 7\n",
        "Orange's Quantity in Partner 2 Name's Cart Updated Successfully to 7"
       ]
      },
      {
       "output_type": "stream",
       "stream": "stdout",
       "text": [
        "\n"
       ]
      }
     ],
     "prompt_number": 18
    },
    {
     "cell_type": "markdown",
     "metadata": {},
     "source": [
      "# Place an Order\n",
      "When we are finished shopping, we much checkout and clear our shopping cart.  The code below in ```checkout``` loops through each item in our shopping cart and calculates the total price. The ```generateConfirmationNumber``` creates a random unique string for our customers to track their orders.  "
     ]
    },
    {
     "cell_type": "code",
     "collapsed": true,
     "input": [
      "import random, string\n",
      "def generateConfirmationNumber():\n",
      "    confirmation = ''.join(random.choice(string.ascii_uppercase + string.digits) for x in range(16))\n",
      "    if confirmation in [order.confirmation for order in session.query(Order).all()]:\n",
      "        generateConfirmationNumber()\n",
      "    return confirmation\n",
      "\n",
      "def checkout(customer_id):\n",
      "        shoppingCart = session.query(ShoppingCart).filter_by(customer_id = customer_id).one()\n",
      "        order = Order(customer_id = customer_id, confirmation = generateConfirmationNumber())\n",
      "        total = 0.00\n",
      "        for item in shoppingCart.products:\n",
      "            assoc = OrdersAssociation(product = item.product, product_qty = item.quantity)\n",
      "            order.products.append(assoc)\n",
      "            total += float(item.product.price.strip('$')) * int(item.quantity)\n",
      "            session.delete(item)\n",
      "        order.total = total\n",
      "        session.add_all([order, shoppingCart])\n",
      "        session.commit()\n",
      "        print(\"Your order has been placed with confirmation %s. Your total is $%s\" % (order.confirmation, str(total)))\n",
      "   "
     ],
     "language": "python",
     "metadata": {},
     "outputs": [],
     "prompt_number": 19
    },
    {
     "cell_type": "markdown",
     "metadata": {},
     "source": [
      "Checkout all of the customers in your database. What happens when you try to checkout twice? Can you think of a more elegant solution?"
     ]
    },
    {
     "cell_type": "code",
     "collapsed": false,
     "input": [
      "checkout(1)"
     ],
     "language": "python",
     "metadata": {},
     "outputs": [
      {
       "output_type": "stream",
       "stream": "stdout",
       "text": [
        "Your order has been placed with confirmation ABL3542E3KKO1QBV. Your total is $13.23\n"
       ]
      }
     ],
     "prompt_number": 20
    },
    {
     "cell_type": "code",
     "collapsed": false,
     "input": [
      "checkout(2)"
     ],
     "language": "python",
     "metadata": {},
     "outputs": [
      {
       "output_type": "stream",
       "stream": "stdout",
       "text": [
        "Your order has been placed with confirmation 4BXV7M2CG1ELBYWI. Your total is $15.05\n"
       ]
      }
     ],
     "prompt_number": 21
    },
    {
     "cell_type": "markdown",
     "metadata": {},
     "source": [
      "## Extra Challenge - Keeping Track of Inventory\n",
      "In a real e-commerce scenario, we don't want to sell things that are out-of-stock to our customers.  Add the necessary database tables to keep track of inventory. Add the necessary python code to make sure that a customer cannot checkout or add items to their shopping cart if the inventory for that item is too low."
     ]
    },
    {
     "cell_type": "code",
     "collapsed": true,
     "input": [],
     "language": "python",
     "metadata": {},
     "outputs": [],
     "prompt_number": null
    }
   ],
   "metadata": {}
  }
 ]
}